{
 "cells": [
  {
   "cell_type": "markdown",
   "id": "f1c97324",
   "metadata": {},
   "source": [
    "# 1.- Checar la red de contenedores para conocer la ip donde se va a realizar la petición a la API"
   ]
  },
  {
   "cell_type": "markdown",
   "id": "63a7f0b7",
   "metadata": {},
   "source": [
    "## Ejemplo"
   ]
  },
  {
   "cell_type": "code",
   "execution_count": 4,
   "id": "253ef8f2",
   "metadata": {},
   "outputs": [],
   "source": [
    "#docker network ls\n",
    "#docker network inspect b5801a78ce54"
   ]
  },
  {
   "cell_type": "code",
   "execution_count": 11,
   "id": "62f7b82d",
   "metadata": {},
   "outputs": [],
   "source": [
    "from pyspark.sql import SparkSession\n",
    "import pyspark.sql.functions as F\n",
    "import requests\n",
    "import warnings\n",
    "warnings.filterwarnings('ignore')"
   ]
  },
  {
   "cell_type": "markdown",
   "id": "2a19ccf2",
   "metadata": {},
   "source": [
    "# 2.- Request de la API"
   ]
  },
  {
   "cell_type": "code",
   "execution_count": 4,
   "id": "e4b61e0b",
   "metadata": {},
   "outputs": [
    {
     "name": "stdout",
     "output_type": "stream",
     "text": [
      "<Response [200]>\n"
     ]
    }
   ],
   "source": [
    "retorno = requests.get('http://172.18.0.7:8000/catalog')\n",
    "print(retorno)"
   ]
  },
  {
   "cell_type": "code",
   "execution_count": 5,
   "id": "208e274a",
   "metadata": {},
   "outputs": [
    {
     "name": "stdout",
     "output_type": "stream",
     "text": [
      "<class 'dict'>\n"
     ]
    }
   ],
   "source": [
    "print(type(retorno.json()))"
   ]
  },
  {
   "cell_type": "code",
   "execution_count": 6,
   "id": "ae983a0c",
   "metadata": {},
   "outputs": [
    {
     "data": {
      "text/plain": [
       "{'items': [{'id': 1,\n",
       "   'date': '13/2/2020',\n",
       "   'customer': 6,\n",
       "   'products': [{'product': 54, 'quantity': 8},\n",
       "    {'product': 82, 'quantity': 7}]},\n",
       "  {'id': 2,\n",
       "   'date': '10/8/2021',\n",
       "   'customer': 11,\n",
       "   'products': [{'product': 47, 'quantity': 1},\n",
       "    {'product': 82, 'quantity': 5},\n",
       "    {'product': 56, 'quantity': 6},\n",
       "    {'product': 48, 'quantity': 8},\n",
       "    {'product': 20, 'quantity': 2}]},\n",
       "  {'id': 3,\n",
       "   'date': '4/8/2020',\n",
       "   'customer': 11,\n",
       "   'products': [{'product': 76, 'quantity': 8},\n",
       "    {'product': 49, 'quantity': 1}]},\n",
       "  {'id': 4,\n",
       "   'date': '20/6/2021',\n",
       "   'customer': 19,\n",
       "   'products': [{'product': 7, 'quantity': 4}, {'product': 1, 'quantity': 1}]},\n",
       "  {'id': 5,\n",
       "   'date': '1/8/2020',\n",
       "   'customer': 7,\n",
       "   'products': [{'product': 61, 'quantity': 2},\n",
       "    {'product': 16, 'quantity': 10}]},\n",
       "  {'id': 6,\n",
       "   'date': '25/7/2020',\n",
       "   'customer': 3,\n",
       "   'products': [{'product': 67, 'quantity': 5}]},\n",
       "  {'id': 7,\n",
       "   'date': '26/8/2020',\n",
       "   'customer': 13,\n",
       "   'products': [{'product': 79, 'quantity': 1},\n",
       "    {'product': 8, 'quantity': 2}]},\n",
       "  {'id': 8,\n",
       "   'date': '10/5/2021',\n",
       "   'customer': 3,\n",
       "   'products': [{'product': 21, 'quantity': 1},\n",
       "    {'product': 27, 'quantity': 5},\n",
       "    {'product': 56, 'quantity': 1},\n",
       "    {'product': 5, 'quantity': 8}]},\n",
       "  {'id': 9,\n",
       "   'date': '15/7/2021',\n",
       "   'customer': 3,\n",
       "   'products': [{'product': 53, 'quantity': 9}]},\n",
       "  {'id': 10,\n",
       "   'date': '30/6/2021',\n",
       "   'customer': 6,\n",
       "   'products': [{'product': 6, 'quantity': 10},\n",
       "    {'product': 98, 'quantity': 1},\n",
       "    {'product': 74, 'quantity': 8}]},\n",
       "  {'id': 11,\n",
       "   'date': '26/11/2020',\n",
       "   'customer': 4,\n",
       "   'products': [{'product': 47, 'quantity': 7},\n",
       "    {'product': 94, 'quantity': 4},\n",
       "    {'product': 38, 'quantity': 2},\n",
       "    {'product': 94, 'quantity': 4},\n",
       "    {'product': 37, 'quantity': 6}]},\n",
       "  {'id': 12,\n",
       "   'date': '21/5/2020',\n",
       "   'customer': 2,\n",
       "   'products': [{'product': 74, 'quantity': 2},\n",
       "    {'product': 78, 'quantity': 1},\n",
       "    {'product': 54, 'quantity': 10},\n",
       "    {'product': 12, 'quantity': 1}]},\n",
       "  {'id': 13,\n",
       "   'date': '18/3/2020',\n",
       "   'customer': 20,\n",
       "   'products': [{'product': 2, 'quantity': 7},\n",
       "    {'product': 46, 'quantity': 5},\n",
       "    {'product': 83, 'quantity': 4}]},\n",
       "  {'id': 14,\n",
       "   'date': '23/1/2020',\n",
       "   'customer': 17,\n",
       "   'products': [{'product': 67, 'quantity': 4}]},\n",
       "  {'id': 15,\n",
       "   'date': '11/6/2020',\n",
       "   'customer': 17,\n",
       "   'products': [{'product': 60, 'quantity': 3},\n",
       "    {'product': 91, 'quantity': 5},\n",
       "    {'product': 85, 'quantity': 1},\n",
       "    {'product': 99, 'quantity': 10}]},\n",
       "  {'id': 16,\n",
       "   'date': '24/5/2021',\n",
       "   'customer': 7,\n",
       "   'products': [{'product': 93, 'quantity': 3},\n",
       "    {'product': 32, 'quantity': 7},\n",
       "    {'product': 31, 'quantity': 7},\n",
       "    {'product': 9, 'quantity': 7},\n",
       "    {'product': 89, 'quantity': 10}]},\n",
       "  {'id': 17,\n",
       "   'date': '27/12/2020',\n",
       "   'customer': 19,\n",
       "   'products': [{'product': 46, 'quantity': 2}]},\n",
       "  {'id': 18,\n",
       "   'date': '24/10/2020',\n",
       "   'customer': 2,\n",
       "   'products': [{'product': 92, 'quantity': 1},\n",
       "    {'product': 66, 'quantity': 2},\n",
       "    {'product': 44, 'quantity': 2}]},\n",
       "  {'id': 19,\n",
       "   'date': '17/11/2020',\n",
       "   'customer': 16,\n",
       "   'products': [{'product': 55, 'quantity': 5}]},\n",
       "  {'id': 20,\n",
       "   'date': '17/4/2020',\n",
       "   'customer': 15,\n",
       "   'products': [{'product': 41, 'quantity': 7},\n",
       "    {'product': 43, 'quantity': 3},\n",
       "    {'product': 53, 'quantity': 2},\n",
       "    {'product': 8, 'quantity': 4},\n",
       "    {'product': 53, 'quantity': 1}]}],\n",
       " 'page': 1,\n",
       " 'total_pages': 3}"
      ]
     },
     "execution_count": 6,
     "metadata": {},
     "output_type": "execute_result"
    }
   ],
   "source": [
    "retorno.json()"
   ]
  },
  {
   "cell_type": "markdown",
   "id": "753cce38",
   "metadata": {},
   "source": [
    "# 3.- Extracción desde pyspark"
   ]
  },
  {
   "cell_type": "code",
   "execution_count": 12,
   "id": "74309ba0",
   "metadata": {},
   "outputs": [],
   "source": [
    "spark = SparkSession.builder.appName(\"Engie\").getOrCreate()"
   ]
  },
  {
   "cell_type": "code",
   "execution_count": 13,
   "id": "29d451c9",
   "metadata": {},
   "outputs": [],
   "source": [
    "df_spark = spark.createDataFrame(retorno.json()['items'])"
   ]
  },
  {
   "cell_type": "code",
   "execution_count": 14,
   "id": "4bd371c2",
   "metadata": {},
   "outputs": [
    {
     "name": "stdout",
     "output_type": "stream",
     "text": [
      "+--------+---------+---+--------------------+\n",
      "|customer|     date| id|            products|\n",
      "+--------+---------+---+--------------------+\n",
      "|       6|13/2/2020|  1|[{product -> 54, ...|\n",
      "|      11|10/8/2021|  2|[{product -> 47, ...|\n",
      "|      11| 4/8/2020|  3|[{product -> 76, ...|\n",
      "|      19|20/6/2021|  4|[{product -> 7, q...|\n",
      "|       7| 1/8/2020|  5|[{product -> 61, ...|\n",
      "|       3|25/7/2020|  6|[{product -> 67, ...|\n",
      "|      13|26/8/2020|  7|[{product -> 79, ...|\n",
      "+--------+---------+---+--------------------+\n",
      "only showing top 7 rows\n",
      "\n"
     ]
    }
   ],
   "source": [
    "df_spark.show(7)"
   ]
  },
  {
   "cell_type": "code",
   "execution_count": 15,
   "id": "8d9c3802",
   "metadata": {},
   "outputs": [
    {
     "name": "stdout",
     "output_type": "stream",
     "text": [
      "root\n",
      " |-- customer: long (nullable = true)\n",
      " |-- date: string (nullable = true)\n",
      " |-- id: long (nullable = true)\n",
      " |-- products: array (nullable = true)\n",
      " |    |-- element: map (containsNull = true)\n",
      " |    |    |-- key: string\n",
      " |    |    |-- value: long (valueContainsNull = true)\n",
      "\n"
     ]
    }
   ],
   "source": [
    "df_spark.printSchema()"
   ]
  },
  {
   "cell_type": "markdown",
   "id": "20105193",
   "metadata": {},
   "source": [
    "### Abriendo Modelo No Relacional"
   ]
  },
  {
   "cell_type": "code",
   "execution_count": 16,
   "id": "80c0a374",
   "metadata": {},
   "outputs": [
    {
     "name": "stdout",
     "output_type": "stream",
     "text": [
      "+--------+---------+---+---------+---------+\n",
      "|customer|     date| id|columna_1|columna_2|\n",
      "+--------+---------+---+---------+---------+\n",
      "|       6|13/2/2020|  1|  product|       54|\n",
      "|       6|13/2/2020|  1| quantity|        8|\n",
      "|       6|13/2/2020|  1|  product|       82|\n",
      "|       6|13/2/2020|  1| quantity|        7|\n",
      "|      11|10/8/2021|  2|  product|       47|\n",
      "|      11|10/8/2021|  2| quantity|        1|\n",
      "|      11|10/8/2021|  2|  product|       82|\n",
      "|      11|10/8/2021|  2| quantity|        5|\n",
      "|      11|10/8/2021|  2|  product|       56|\n",
      "|      11|10/8/2021|  2| quantity|        6|\n",
      "|      11|10/8/2021|  2|  product|       48|\n",
      "|      11|10/8/2021|  2| quantity|        8|\n",
      "|      11|10/8/2021|  2|  product|       20|\n",
      "|      11|10/8/2021|  2| quantity|        2|\n",
      "|      11| 4/8/2020|  3|  product|       76|\n",
      "|      11| 4/8/2020|  3| quantity|        8|\n",
      "|      11| 4/8/2020|  3|  product|       49|\n",
      "|      11| 4/8/2020|  3| quantity|        1|\n",
      "|      19|20/6/2021|  4|  product|        7|\n",
      "|      19|20/6/2021|  4| quantity|        4|\n",
      "+--------+---------+---+---------+---------+\n",
      "only showing top 20 rows\n",
      "\n"
     ]
    }
   ],
   "source": [
    "(df_spark\n",
    " .select(\"*\",F.explode(\"products\").alias(\"element\"))\n",
    " .select(\"*\",F.explode(\"element\")).drop(\"products\",\"element\")\n",
    " .withColumnRenamed(\"key\",\"columna_1\").withColumnRenamed(\"value\",\"columna_2\").show()\n",
    ")"
   ]
  }
 ],
 "metadata": {
  "kernelspec": {
   "display_name": "Python 3 (ipykernel)",
   "language": "python",
   "name": "python3"
  },
  "language_info": {
   "codemirror_mode": {
    "name": "ipython",
    "version": 3
   },
   "file_extension": ".py",
   "mimetype": "text/x-python",
   "name": "python",
   "nbconvert_exporter": "python",
   "pygments_lexer": "ipython3",
   "version": "3.9.7"
  }
 },
 "nbformat": 4,
 "nbformat_minor": 5
}
