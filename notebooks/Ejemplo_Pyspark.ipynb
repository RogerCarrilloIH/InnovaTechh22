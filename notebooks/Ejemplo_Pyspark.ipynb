{
 "cells": [
  {
   "cell_type": "markdown",
   "id": "35507fce",
   "metadata": {},
   "source": [
    "# 1.-Inicializando SparkSession"
   ]
  },
  {
   "cell_type": "code",
   "execution_count": 1,
   "id": "908d6559",
   "metadata": {},
   "outputs": [],
   "source": [
    "from pyspark.sql import SparkSession\n",
    "import pyspark.sql.functions as F\n",
    "import warnings"
   ]
  },
  {
   "cell_type": "code",
   "execution_count": 2,
   "id": "fb9f0695",
   "metadata": {},
   "outputs": [
    {
     "name": "stderr",
     "output_type": "stream",
     "text": [
      "WARNING: An illegal reflective access operation has occurred\n",
      "WARNING: Illegal reflective access by org.apache.spark.unsafe.Platform (file:/usr/local/spark-3.1.2-bin-hadoop3.2/jars/spark-unsafe_2.12-3.1.2.jar) to constructor java.nio.DirectByteBuffer(long,int)\n",
      "WARNING: Please consider reporting this to the maintainers of org.apache.spark.unsafe.Platform\n",
      "WARNING: Use --illegal-access=warn to enable warnings of further illegal reflective access operations\n",
      "WARNING: All illegal access operations will be denied in a future release\n",
      "22/07/02 00:18:44 WARN NativeCodeLoader: Unable to load native-hadoop library for your platform... using builtin-java classes where applicable\n",
      "Using Spark's default log4j profile: org/apache/spark/log4j-defaults.properties\n",
      "Setting default log level to \"WARN\".\n",
      "To adjust logging level use sc.setLogLevel(newLevel). For SparkR, use setLogLevel(newLevel).\n"
     ]
    }
   ],
   "source": [
    "spark = SparkSession.builder.config(\"spark.jars\", \"/home/jovyan/drivers/postgresql-42.2.18.jar\") \\\n",
    "    .master(\"local[*]\").appName(\"Engine\").getOrCreate().newSession()\n",
    "warnings.filterwarnings(\"ignore\")"
   ]
  },
  {
   "cell_type": "markdown",
   "id": "51e832df",
   "metadata": {},
   "source": [
    "# 2.-Spark Data Sources"
   ]
  },
  {
   "cell_type": "markdown",
   "id": "70632c12",
   "metadata": {},
   "source": [
    "## CSV"
   ]
  },
  {
   "cell_type": "code",
   "execution_count": 3,
   "id": "eb48fd5a",
   "metadata": {},
   "outputs": [],
   "source": [
    "df_csv = spark.read.csv(\"/home/jovyan/data/TBL_MAINTENANCE.csv\",inferSchema=True,header=True)"
   ]
  },
  {
   "cell_type": "code",
   "execution_count": 4,
   "id": "d1bd3b3e",
   "metadata": {},
   "outputs": [
    {
     "name": "stdout",
     "output_type": "stream",
     "text": [
      "+--------+-----------+--------------+-------+----------+-----------------+\n",
      "|stock_id|estimate_id|maintenance_id|type_id|package_id|price_maintenance|\n",
      "+--------+-----------+--------------+-------+----------+-----------------+\n",
      "|   15021|          0|         31109|      3|        82|              0.0|\n",
      "|   23733|          0|         34809|      1|       200|           2299.0|\n",
      "|   39363|          0|         34737|      6|        71|              0.0|\n",
      "|    3112|          0|         31811|      1|       200|           2199.0|\n",
      "+--------+-----------+--------------+-------+----------+-----------------+\n",
      "only showing top 4 rows\n",
      "\n"
     ]
    }
   ],
   "source": [
    "df_csv.show(4)"
   ]
  },
  {
   "cell_type": "markdown",
   "id": "6205d6c6",
   "metadata": {},
   "source": [
    "# Base De Datos"
   ]
  },
  {
   "cell_type": "code",
   "execution_count": 5,
   "id": "38d7da4a",
   "metadata": {},
   "outputs": [],
   "source": [
    "df_db = (spark.read.format(\"jdbc\").option(\"url\",\"jdbc:postgresql://postgres:5432/postgres\")\n",
    "         .option(\"dbtable\",\"tbl_maintenance\") \\\n",
    "         .option(\"user\",\"airflow\").option(\"password\",\"airflow\") \\\n",
    "         .option(\"driver\",\"org.postgresql.Driver\").load()\n",
    "        )"
   ]
  },
  {
   "cell_type": "code",
   "execution_count": 6,
   "id": "ce4f364f",
   "metadata": {},
   "outputs": [
    {
     "name": "stdout",
     "output_type": "stream",
     "text": [
      "+--------+-----------+--------------+-------+----------+-----------------+\n",
      "|stock_id|estimate_id|maintenance_id|type_id|package_id|price_maintenance|\n",
      "+--------+-----------+--------------+-------+----------+-----------------+\n",
      "|   15021|          0|         31109|      3|        82|              0.0|\n",
      "|   23733|          0|         34809|      1|       200|           2299.0|\n",
      "|   39363|          0|         34737|      6|        71|              0.0|\n",
      "|    3112|          0|         31811|      1|       200|           2199.0|\n",
      "+--------+-----------+--------------+-------+----------+-----------------+\n",
      "only showing top 4 rows\n",
      "\n"
     ]
    }
   ],
   "source": [
    "df_db.show(4)"
   ]
  },
  {
   "cell_type": "markdown",
   "id": "7d87f6a6",
   "metadata": {},
   "source": [
    "# 3.-Inspección De Data"
   ]
  },
  {
   "cell_type": "code",
   "execution_count": 7,
   "id": "f241c7b9",
   "metadata": {},
   "outputs": [
    {
     "data": {
      "text/plain": [
       "[('stock_id', 'int'),\n",
       " ('estimate_id', 'int'),\n",
       " ('maintenance_id', 'int'),\n",
       " ('type_id', 'int'),\n",
       " ('package_id', 'int'),\n",
       " ('price_maintenance', 'double')]"
      ]
     },
     "execution_count": 7,
     "metadata": {},
     "output_type": "execute_result"
    }
   ],
   "source": [
    "df_db.dtypes"
   ]
  },
  {
   "cell_type": "code",
   "execution_count": 8,
   "id": "99ac3c84",
   "metadata": {},
   "outputs": [
    {
     "name": "stdout",
     "output_type": "stream",
     "text": [
      "root\n",
      " |-- stock_id: integer (nullable = true)\n",
      " |-- estimate_id: integer (nullable = true)\n",
      " |-- maintenance_id: integer (nullable = true)\n",
      " |-- type_id: integer (nullable = true)\n",
      " |-- package_id: integer (nullable = true)\n",
      " |-- price_maintenance: double (nullable = true)\n",
      "\n"
     ]
    }
   ],
   "source": [
    "df_db.printSchema()"
   ]
  },
  {
   "cell_type": "code",
   "execution_count": 9,
   "id": "1b6215f2",
   "metadata": {},
   "outputs": [
    {
     "data": {
      "text/plain": [
       "7944"
      ]
     },
     "execution_count": 9,
     "metadata": {},
     "output_type": "execute_result"
    }
   ],
   "source": [
    "df_db.count()"
   ]
  },
  {
   "cell_type": "code",
   "execution_count": 10,
   "id": "fd9e775c",
   "metadata": {},
   "outputs": [
    {
     "name": "stdout",
     "output_type": "stream",
     "text": [
      "-RECORD 0-------------------------------\n",
      " summary           | count              \n",
      " stock_id          | 7944               \n",
      " estimate_id       | 7944               \n",
      " maintenance_id    | 7944               \n",
      " type_id           | 7944               \n",
      " package_id        | 7944               \n",
      " price_maintenance | 7944               \n",
      "-RECORD 1-------------------------------\n",
      " summary           | mean               \n",
      " stock_id          | 34278.433660624374 \n",
      " estimate_id       | 2086421.2721550856 \n",
      " maintenance_id    | 34852.09151560927  \n",
      " type_id           | 4.913897280966768  \n",
      " package_id        | 146.1897029204431  \n",
      " price_maintenance | 715.5368806646545  \n",
      "-RECORD 2-------------------------------\n",
      " summary           | stddev             \n",
      " stock_id          | 21838.325367366007 \n",
      " estimate_id       | 3330541.3818029696 \n",
      " maintenance_id    | 2863.3480228740473 \n",
      " type_id           | 1.9631858471755368 \n",
      " package_id        | 59.921845861454386 \n",
      " price_maintenance | 763.9643133297569  \n",
      "-RECORD 3-------------------------------\n",
      " summary           | min                \n",
      " stock_id          | 1459               \n",
      " estimate_id       | 0                  \n",
      " maintenance_id    | 4                  \n",
      " type_id           | 1                  \n",
      " package_id        | 65                 \n",
      " price_maintenance | 0.0                \n",
      "-RECORD 4-------------------------------\n",
      " summary           | max                \n",
      " stock_id          | 118929             \n",
      " estimate_id       | 13121656           \n",
      " maintenance_id    | 38923              \n",
      " type_id           | 6                  \n",
      " package_id        | 200                \n",
      " price_maintenance | 3598.0             \n",
      "\n"
     ]
    }
   ],
   "source": [
    "df_db.describe().show(vertical=True)"
   ]
  },
  {
   "cell_type": "code",
   "execution_count": 11,
   "id": "a67c2e9e",
   "metadata": {},
   "outputs": [
    {
     "name": "stdout",
     "output_type": "stream",
     "text": [
      "== Physical Plan ==\n",
      "*(1) Scan JDBCRelation(tbl_maintenance) [numPartitions=1] [stock_id#59,estimate_id#60,maintenance_id#61,type_id#62,package_id#63,price_maintenance#64] PushedFilters: [], ReadSchema: struct<stock_id:int,estimate_id:int,maintenance_id:int,type_id:int,package_id:int,price_maintenan...\n",
      "\n",
      "\n"
     ]
    }
   ],
   "source": [
    "df_db.explain()"
   ]
  },
  {
   "cell_type": "markdown",
   "id": "b02aac12",
   "metadata": {},
   "source": [
    "# 4.-Duplicate Values"
   ]
  },
  {
   "cell_type": "code",
   "execution_count": 12,
   "id": "093e2cc8",
   "metadata": {},
   "outputs": [],
   "source": [
    "df_db = spark.read.format(\"jdbc\").option(\"url\", \"jdbc:postgresql://postgres:5432/postgres\") \\\n",
    "    .option(\"dbtable\", \"cat_type_package\") \\\n",
    "    .option(\"user\", \"airflow\").option(\"password\", \"airflow\") \\\n",
    "    .option(\"driver\", \"org.postgresql.Driver\").load()"
   ]
  },
  {
   "cell_type": "code",
   "execution_count": 13,
   "id": "b92c6f71",
   "metadata": {},
   "outputs": [
    {
     "name": "stdout",
     "output_type": "stream",
     "text": [
      "+----------+-----------------+-------------------+\n",
      "|package_id|     package_name|               date|\n",
      "+----------+-----------------+-------------------+\n",
      "|        65|Warranty Included|2019-09-04 17:00:00|\n",
      "|        70|Warranty Included|2019-09-05 17:00:00|\n",
      "|        71|Warranty Included|2019-09-06 17:00:00|\n",
      "|        76|Warranty Included|2019-09-07 17:00:00|\n",
      "|        78|Warranty Included|2019-09-08 17:00:00|\n",
      "|        81|Warranty Included|2019-09-09 17:00:00|\n",
      "|        88|Warranty Included|2019-09-10 17:00:00|\n",
      "|        92|Warranty Included|2019-09-11 17:00:00|\n",
      "|        94|Warranty Included|2019-09-12 17:00:00|\n",
      "|        96|Warranty Included|2019-09-13 17:00:00|\n",
      "|        98|Warranty Included|2019-09-14 17:00:00|\n",
      "|       106|Warranty Included|2019-09-15 17:00:00|\n",
      "|        71|  Warranty Upsell|2019-09-04 17:00:00|\n",
      "|        76|  Warranty Upsell|2019-09-05 17:00:00|\n",
      "|        78|  Warranty Upsell|2019-09-06 17:00:00|\n",
      "|        81|  Warranty Upsell|2019-09-07 17:00:00|\n",
      "|        82|  Warranty Upsell|2019-09-08 17:00:00|\n",
      "|        96|  Warranty Upsell|2019-09-09 17:00:00|\n",
      "|        98|  Warranty Upsell|2019-09-10 17:00:00|\n",
      "|       200|  Paying Customer|2019-09-04 17:00:00|\n",
      "+----------+-----------------+-------------------+\n",
      "\n"
     ]
    }
   ],
   "source": [
    "df_db.show()"
   ]
  },
  {
   "cell_type": "code",
   "execution_count": 14,
   "id": "28b89cbf",
   "metadata": {},
   "outputs": [
    {
     "name": "stderr",
     "output_type": "stream",
     "text": [
      "\r",
      "[Stage 16:======================================================>(99 + 1) / 100]\r",
      "\r",
      "                                                                                \r"
     ]
    },
    {
     "name": "stdout",
     "output_type": "stream",
     "text": [
      "+-----------------+\n",
      "|     package_name|\n",
      "+-----------------+\n",
      "|  Warranty Upsell|\n",
      "|  Paying Customer|\n",
      "|Warranty Included|\n",
      "+-----------------+\n",
      "\n"
     ]
    }
   ],
   "source": [
    "df_db.select(\"package_name\").dropDuplicates().show()"
   ]
  },
  {
   "cell_type": "markdown",
   "id": "ab52c548",
   "metadata": {},
   "source": [
    "# 5.-Add,Update y Remove Columns"
   ]
  },
  {
   "cell_type": "code",
   "execution_count": 15,
   "id": "ff05071d",
   "metadata": {},
   "outputs": [],
   "source": [
    "df_db = spark.read.format(\"jdbc\").option(\"url\", \"jdbc:postgresql://postgres:5432/postgres\") \\\n",
    "    .option(\"dbtable\", \"tbl_maintenance\") \\\n",
    "    .option(\"user\", \"airflow\").option(\"password\", \"airflow\") \\\n",
    "    .option(\"driver\", \"org.postgresql.Driver\").load()"
   ]
  },
  {
   "cell_type": "code",
   "execution_count": 16,
   "id": "3a884e2c",
   "metadata": {},
   "outputs": [],
   "source": [
    "df_db = df_db.withColumn(\"value_set\",F.lit(1))"
   ]
  },
  {
   "cell_type": "code",
   "execution_count": 17,
   "id": "589d7e47",
   "metadata": {},
   "outputs": [
    {
     "name": "stdout",
     "output_type": "stream",
     "text": [
      "+--------+-----------+--------------+-------+----------+-----------------+---------+\n",
      "|stock_id|estimate_id|maintenance_id|type_id|package_id|price_maintenance|value_set|\n",
      "+--------+-----------+--------------+-------+----------+-----------------+---------+\n",
      "|   15021|          0|         31109|      3|        82|              0.0|        1|\n",
      "|   23733|          0|         34809|      1|       200|           2299.0|        1|\n",
      "|   39363|          0|         34737|      6|        71|              0.0|        1|\n",
      "+--------+-----------+--------------+-------+----------+-----------------+---------+\n",
      "only showing top 3 rows\n",
      "\n"
     ]
    }
   ],
   "source": [
    "df_db.show(3)"
   ]
  },
  {
   "cell_type": "code",
   "execution_count": 18,
   "id": "68c240ea",
   "metadata": {},
   "outputs": [],
   "source": [
    "df_db = df_db.withColumnRenamed(\"value_set\",\"value_count\")"
   ]
  },
  {
   "cell_type": "code",
   "execution_count": 19,
   "id": "d4b3f9e0",
   "metadata": {},
   "outputs": [
    {
     "name": "stdout",
     "output_type": "stream",
     "text": [
      "+--------+-----------+--------------+-------+----------+-----------------+-----------+\n",
      "|stock_id|estimate_id|maintenance_id|type_id|package_id|price_maintenance|value_count|\n",
      "+--------+-----------+--------------+-------+----------+-----------------+-----------+\n",
      "|   15021|          0|         31109|      3|        82|              0.0|          1|\n",
      "|   23733|          0|         34809|      1|       200|           2299.0|          1|\n",
      "|   39363|          0|         34737|      6|        71|              0.0|          1|\n",
      "+--------+-----------+--------------+-------+----------+-----------------+-----------+\n",
      "only showing top 3 rows\n",
      "\n"
     ]
    }
   ],
   "source": [
    "df_db.show(3)"
   ]
  },
  {
   "cell_type": "code",
   "execution_count": 20,
   "id": "8c42a6ad",
   "metadata": {},
   "outputs": [],
   "source": [
    "df_db = df_db.drop(\"value_count\")"
   ]
  },
  {
   "cell_type": "markdown",
   "id": "e83b823a",
   "metadata": {},
   "source": [
    "# 6.-Queries "
   ]
  },
  {
   "cell_type": "markdown",
   "id": "94c60cd0",
   "metadata": {},
   "source": [
    "## Select"
   ]
  },
  {
   "cell_type": "code",
   "execution_count": 21,
   "id": "c220fa11",
   "metadata": {},
   "outputs": [
    {
     "name": "stdout",
     "output_type": "stream",
     "text": [
      "root\n",
      " |-- stock_id: integer (nullable = true)\n",
      " |-- estimate_id: integer (nullable = true)\n",
      " |-- maintenance_id: integer (nullable = true)\n",
      " |-- type_id: integer (nullable = true)\n",
      " |-- package_id: integer (nullable = true)\n",
      " |-- price_maintenance: double (nullable = true)\n",
      "\n"
     ]
    }
   ],
   "source": [
    "df_db.printSchema()"
   ]
  },
  {
   "cell_type": "code",
   "execution_count": 22,
   "id": "f2cdcb59",
   "metadata": {},
   "outputs": [
    {
     "name": "stdout",
     "output_type": "stream",
     "text": [
      "+--------------+-----------------+\n",
      "|maintenance_id|price_maintenance|\n",
      "+--------------+-----------------+\n",
      "|         31109|              0.0|\n",
      "|         34809|           2299.0|\n",
      "|         34737|              0.0|\n",
      "|         31811|           2199.0|\n",
      "+--------------+-----------------+\n",
      "only showing top 4 rows\n",
      "\n"
     ]
    }
   ],
   "source": [
    "df_db.select(\"maintenance_id\",\"price_maintenance\").show(4)"
   ]
  },
  {
   "cell_type": "markdown",
   "id": "9b57a0a5",
   "metadata": {},
   "source": [
    "## When"
   ]
  },
  {
   "cell_type": "code",
   "execution_count": 23,
   "id": "334487ec",
   "metadata": {},
   "outputs": [],
   "source": [
    "df_db = (df_db\n",
    " .withColumn(\"price_maintenance_name\",\n",
    "             F.when(df_db[\"price_maintenance\"]==0,\"Con Descuento\")\n",
    "             .otherwise(\"Sin Descuento :(\")\n",
    "            )\n",
    ")"
   ]
  },
  {
   "cell_type": "markdown",
   "id": "491ca074",
   "metadata": {},
   "source": [
    "## Like"
   ]
  },
  {
   "cell_type": "code",
   "execution_count": 24,
   "id": "998cb88b",
   "metadata": {},
   "outputs": [
    {
     "name": "stdout",
     "output_type": "stream",
     "text": [
      "+--------+-----------+--------------+-------+----------+-----------------+----------------------+\n",
      "|stock_id|estimate_id|maintenance_id|type_id|package_id|price_maintenance|price_maintenance_name|\n",
      "+--------+-----------+--------------+-------+----------+-----------------+----------------------+\n",
      "|   15021|          0|         31109|      3|        82|              0.0|         Con Descuento|\n",
      "|   39363|          0|         34737|      6|        71|              0.0|         Con Descuento|\n",
      "|   20276|          0|         31734|      6|        71|              0.0|         Con Descuento|\n",
      "|   38030|          0|         33803|      6|        78|              0.0|         Con Descuento|\n",
      "+--------+-----------+--------------+-------+----------+-----------------+----------------------+\n",
      "only showing top 4 rows\n",
      "\n"
     ]
    }
   ],
   "source": [
    "(df_db\n",
    " .filter(df_db.price_maintenance_name.like(\"Con Descuento\")).show(4)\n",
    ")"
   ]
  },
  {
   "cell_type": "markdown",
   "id": "539350f8",
   "metadata": {},
   "source": [
    "# Startwith - Endwith"
   ]
  },
  {
   "cell_type": "code",
   "execution_count": 25,
   "id": "7963cf8b",
   "metadata": {},
   "outputs": [
    {
     "name": "stdout",
     "output_type": "stream",
     "text": [
      "+--------+-----------+--------------+-------+----------+-----------------+----------------------+\n",
      "|stock_id|estimate_id|maintenance_id|type_id|package_id|price_maintenance|price_maintenance_name|\n",
      "+--------+-----------+--------------+-------+----------+-----------------+----------------------+\n",
      "|   15021|          0|         31109|      3|        82|              0.0|         Con Descuento|\n",
      "|   39363|          0|         34737|      6|        71|              0.0|         Con Descuento|\n",
      "|   20276|          0|         31734|      6|        71|              0.0|         Con Descuento|\n",
      "|   38030|          0|         33803|      6|        78|              0.0|         Con Descuento|\n",
      "+--------+-----------+--------------+-------+----------+-----------------+----------------------+\n",
      "only showing top 4 rows\n",
      "\n"
     ]
    }
   ],
   "source": [
    "(df_db\n",
    " .filter(df_db.price_maintenance_name.startswith(\"Con\")).show(4)\n",
    ")"
   ]
  },
  {
   "cell_type": "code",
   "execution_count": 26,
   "id": "d1a463e0",
   "metadata": {},
   "outputs": [
    {
     "name": "stdout",
     "output_type": "stream",
     "text": [
      "+--------+-----------+--------------+-------+----------+-----------------+----------------------+\n",
      "|stock_id|estimate_id|maintenance_id|type_id|package_id|price_maintenance|price_maintenance_name|\n",
      "+--------+-----------+--------------+-------+----------+-----------------+----------------------+\n",
      "|   23733|          0|         34809|      1|       200|           2299.0|      Sin Descuento :(|\n",
      "|    3112|          0|         31811|      1|       200|           2199.0|      Sin Descuento :(|\n",
      "|   20061|          0|         32147|      6|       200|           1250.0|      Sin Descuento :(|\n",
      "|  100197|    8848023|         38654|      2|       200|            550.0|      Sin Descuento :(|\n",
      "+--------+-----------+--------------+-------+----------+-----------------+----------------------+\n",
      "only showing top 4 rows\n",
      "\n"
     ]
    }
   ],
   "source": [
    "(df_db\n",
    " .filter(df_db.price_maintenance_name.endswith(\"(\")).show(4)\n",
    ")"
   ]
  },
  {
   "cell_type": "markdown",
   "id": "926585b1",
   "metadata": {},
   "source": [
    "# Substring (Tarea Moral)"
   ]
  },
  {
   "cell_type": "markdown",
   "id": "67ebda5f",
   "metadata": {},
   "source": [
    "# Between (Tarea Moral)"
   ]
  },
  {
   "cell_type": "markdown",
   "id": "9a720582",
   "metadata": {},
   "source": [
    "# 7.-Group By"
   ]
  },
  {
   "cell_type": "code",
   "execution_count": 27,
   "id": "fcd33a5b",
   "metadata": {},
   "outputs": [
    {
     "name": "stdout",
     "output_type": "stream",
     "text": [
      "+-------+----------------------+\n",
      "|type_id|sum(price_maintenance)|\n",
      "+-------+----------------------+\n",
      "|      1|             2242039.0|\n",
      "|      6|             3203176.0|\n",
      "|      3|              117550.0|\n",
      "|      4|                8196.0|\n",
      "|      2|    113263.98000000019|\n",
      "+-------+----------------------+\n",
      "\n"
     ]
    }
   ],
   "source": [
    "df_db.groupBy(\"type_id\").agg(F.sum(\"price_maintenance\")).show(10)"
   ]
  },
  {
   "cell_type": "markdown",
   "id": "c78ac288",
   "metadata": {},
   "source": [
    "# 8.-Filter"
   ]
  },
  {
   "cell_type": "code",
   "execution_count": 28,
   "id": "00e5be73",
   "metadata": {},
   "outputs": [
    {
     "name": "stdout",
     "output_type": "stream",
     "text": [
      "+--------+-----------+--------------+-------+----------+-----------------+----------------------+\n",
      "|stock_id|estimate_id|maintenance_id|type_id|package_id|price_maintenance|price_maintenance_name|\n",
      "+--------+-----------+--------------+-------+----------+-----------------+----------------------+\n",
      "|   15021|          0|         31109|      3|        82|              0.0|         Con Descuento|\n",
      "|   39363|          0|         34737|      6|        71|              0.0|         Con Descuento|\n",
      "|   20276|          0|         31734|      6|        71|              0.0|         Con Descuento|\n",
      "|   38030|          0|         33803|      6|        78|              0.0|         Con Descuento|\n",
      "|  103849|   10170732|         38532|      6|        78|              0.0|         Con Descuento|\n",
      "|   24550|          0|         33328|      6|        78|              0.0|         Con Descuento|\n",
      "|   21991|          0|         31998|      6|        96|              0.0|         Con Descuento|\n",
      "|   35743|          0|         33576|      6|        81|              0.0|         Con Descuento|\n",
      "|   19244|          0|         34462|      6|        71|              0.0|         Con Descuento|\n",
      "|   31055|          0|         34315|      6|        78|              0.0|         Con Descuento|\n",
      "|   37159|          0|         35044|      6|        76|              0.0|         Con Descuento|\n",
      "|   25040|          0|         34363|      6|        71|              0.0|         Con Descuento|\n",
      "+--------+-----------+--------------+-------+----------+-----------------+----------------------+\n",
      "only showing top 12 rows\n",
      "\n"
     ]
    }
   ],
   "source": [
    "df_db.filter(df_db[\"price_maintenance\"]==0.0).show(12)"
   ]
  },
  {
   "cell_type": "markdown",
   "id": "c8a18f0b",
   "metadata": {},
   "source": [
    "# 9.-Sort"
   ]
  },
  {
   "cell_type": "code",
   "execution_count": 29,
   "id": "8e473bdd",
   "metadata": {},
   "outputs": [],
   "source": [
    "df_db = spark.read.format(\"jdbc\").option(\"url\", \"jdbc:postgresql://postgres:5432/postgres\") \\\n",
    "    .option(\"dbtable\", \"cat_type_package\") \\\n",
    "    .option(\"user\", \"airflow\").option(\"password\", \"airflow\") \\\n",
    "    .option(\"driver\", \"org.postgresql.Driver\").load()"
   ]
  },
  {
   "cell_type": "code",
   "execution_count": 30,
   "id": "c884510e",
   "metadata": {},
   "outputs": [
    {
     "name": "stdout",
     "output_type": "stream",
     "text": [
      "+----------+-----------------+-------------------+\n",
      "|package_id|     package_name|               date|\n",
      "+----------+-----------------+-------------------+\n",
      "|        65|Warranty Included|2019-09-04 17:00:00|\n",
      "|        70|Warranty Included|2019-09-05 17:00:00|\n",
      "|        71|Warranty Included|2019-09-06 17:00:00|\n",
      "|        71|  Warranty Upsell|2019-09-04 17:00:00|\n",
      "|        76|Warranty Included|2019-09-07 17:00:00|\n",
      "|        76|  Warranty Upsell|2019-09-05 17:00:00|\n",
      "|        78|Warranty Included|2019-09-08 17:00:00|\n",
      "|        78|  Warranty Upsell|2019-09-06 17:00:00|\n",
      "|        81|Warranty Included|2019-09-09 17:00:00|\n",
      "|        81|  Warranty Upsell|2019-09-07 17:00:00|\n",
      "|        82|  Warranty Upsell|2019-09-08 17:00:00|\n",
      "|        88|Warranty Included|2019-09-10 17:00:00|\n",
      "|        92|Warranty Included|2019-09-11 17:00:00|\n",
      "|        94|Warranty Included|2019-09-12 17:00:00|\n",
      "|        96|Warranty Included|2019-09-13 17:00:00|\n",
      "|        96|  Warranty Upsell|2019-09-09 17:00:00|\n",
      "|        98|  Warranty Upsell|2019-09-10 17:00:00|\n",
      "|        98|Warranty Included|2019-09-14 17:00:00|\n",
      "|       106|Warranty Included|2019-09-15 17:00:00|\n",
      "|       200|  Paying Customer|2019-09-04 17:00:00|\n",
      "+----------+-----------------+-------------------+\n",
      "\n"
     ]
    }
   ],
   "source": [
    "df_db.orderBy(\"package_id\").show()"
   ]
  },
  {
   "cell_type": "markdown",
   "id": "a47ed3eb",
   "metadata": {},
   "source": [
    "# 10.-Missing y Replancing Values (Tarea Moral)"
   ]
  },
  {
   "cell_type": "markdown",
   "id": "5d3acc43",
   "metadata": {},
   "source": [
    "# 11.-Output (Tarea Moral)"
   ]
  },
  {
   "cell_type": "markdown",
   "id": "e1129760",
   "metadata": {},
   "source": [
    "# 12.-SQL"
   ]
  },
  {
   "cell_type": "code",
   "execution_count": 31,
   "id": "99752517",
   "metadata": {},
   "outputs": [],
   "source": [
    "df_db = (spark.read.format(\"jdbc\").option(\"url\",\"jdbc:postgresql://postgres:5432/postgres\")\n",
    "         .option(\"dbtable\",\"tbl_maintenance\") \\\n",
    "         .option(\"user\",\"airflow\").option(\"password\",\"airflow\") \\\n",
    "         .option(\"driver\",\"org.postgresql.Driver\").load()\n",
    "        )"
   ]
  },
  {
   "cell_type": "code",
   "execution_count": 32,
   "id": "4cd1ecd4",
   "metadata": {},
   "outputs": [],
   "source": [
    "df_db.createOrReplaceTempView(\"mantenimientos\")"
   ]
  },
  {
   "cell_type": "code",
   "execution_count": 33,
   "id": "ec216958",
   "metadata": {},
   "outputs": [
    {
     "name": "stdout",
     "output_type": "stream",
     "text": [
      "+--------+-----------+--------------+-------+----------+-----------------+\n",
      "|stock_id|estimate_id|maintenance_id|type_id|package_id|price_maintenance|\n",
      "+--------+-----------+--------------+-------+----------+-----------------+\n",
      "|   15021|          0|         31109|      3|        82|              0.0|\n",
      "|   39363|          0|         34737|      6|        71|              0.0|\n",
      "|   20276|          0|         31734|      6|        71|              0.0|\n",
      "|   38030|          0|         33803|      6|        78|              0.0|\n",
      "+--------+-----------+--------------+-------+----------+-----------------+\n",
      "only showing top 4 rows\n",
      "\n"
     ]
    }
   ],
   "source": [
    "spark.sql(\"\"\"\n",
    "\n",
    "SELECT * FROM mantenimientos\n",
    "WHERE price_maintenance = 0.0\n",
    "\n",
    "\"\"\").show(4)"
   ]
  }
 ],
 "metadata": {
  "kernelspec": {
   "display_name": "Python 3 (ipykernel)",
   "language": "python",
   "name": "python3"
  },
  "language_info": {
   "codemirror_mode": {
    "name": "ipython",
    "version": 3
   },
   "file_extension": ".py",
   "mimetype": "text/x-python",
   "name": "python",
   "nbconvert_exporter": "python",
   "pygments_lexer": "ipython3",
   "version": "3.9.7"
  }
 },
 "nbformat": 4,
 "nbformat_minor": 5
}
